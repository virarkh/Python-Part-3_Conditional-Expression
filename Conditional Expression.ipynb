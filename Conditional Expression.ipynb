{
 "cells": [
  {
   "cell_type": "markdown",
   "id": "293fe44e",
   "metadata": {},
   "source": [
    "# Conditional Expression"
   ]
  },
  {
   "cell_type": "markdown",
   "id": "565517db",
   "metadata": {},
   "source": [
    "## If\n",
    "start by looking at the most basic type of if statement. In its simplest form, it looks like this:"
   ]
  },
  {
   "cell_type": "raw",
   "id": "85346a2f",
   "metadata": {},
   "source": [
    "if <expr> : \n",
    "    <statement>"
   ]
  },
  {
   "cell_type": "markdown",
   "id": "3ef754e2",
   "metadata": {},
   "source": [
    "In the form shown above:\n",
    "\n",
    "- \\<expr> is an expression evaluated in a Boolean context.\n",
    "- \\<statement> is a valid Python statement.\n",
    "\n",
    "If \\<expr> is true, then \\<statement> is executed. If \\<expr> is false, then \\<statement> is skipped over and not executed.\n",
    "\n",
    "Example:"
   ]
  },
  {
   "cell_type": "code",
   "execution_count": 4,
   "id": "16a0abe0",
   "metadata": {},
   "outputs": [
    {
     "name": "stdout",
     "output_type": "stream",
     "text": [
      "My name is Kim Yoo Jung\n",
      "My name is Kim Yoo Jung\n"
     ]
    }
   ],
   "source": [
    "name = 'Kim Yoo Jung'\n",
    "\n",
    "if name:\n",
    "    print('My name is {}'.format(name))\n",
    "    print('My name is %s' % name)"
   ]
  },
  {
   "cell_type": "code",
   "execution_count": 2,
   "id": "04ecaafa",
   "metadata": {},
   "outputs": [
    {
     "name": "stdout",
     "output_type": "stream",
     "text": [
      "3 is a positive number.\n",
      "This is always printed.\n"
     ]
    }
   ],
   "source": [
    "num = 3\n",
    "if num > 0:\n",
    "    print(num, \"is a positive number.\")\n",
    "print(\"This is always printed.\")"
   ]
  },
  {
   "cell_type": "markdown",
   "id": "f7a022ae",
   "metadata": {},
   "source": [
    "## Else\n",
    "\n",
    "Else statement is to evaluate a condition and take one path if it is true but specify an alternative path if it is not.\n",
    "\n",
    "This is accomplished with an else clause:"
   ]
  },
  {
   "cell_type": "raw",
   "id": "accdadef",
   "metadata": {},
   "source": [
    "if <expr>:\n",
    "    <statement(s)>\n",
    "else:\n",
    "    <statement(s)>"
   ]
  },
  {
   "cell_type": "markdown",
   "id": "62972c05",
   "metadata": {},
   "source": [
    "If \\<expr> is true, the first suite is executed, and the second is skipped. If \\<expr> is false, the first suite is skipped and the second is executed. \n",
    "\n",
    "Example:"
   ]
  },
  {
   "cell_type": "code",
   "execution_count": 8,
   "id": "7be48b12",
   "metadata": {},
   "outputs": [
    {
     "name": "stdout",
     "output_type": "stream",
     "text": [
      "I have license because I am 18 years old\n",
      "I have license because I am 18 years old\n"
     ]
    }
   ],
   "source": [
    "age = 18\n",
    "\n",
    "if age > 17 : \n",
    "    print('I have license because I am {} years old' .format(age))\n",
    "    print('I have license because I am %d years old' % age)\n",
    "else: \n",
    "    print('I am not old enough to have license')"
   ]
  },
  {
   "cell_type": "code",
   "execution_count": 3,
   "id": "7e53d82b",
   "metadata": {},
   "outputs": [
    {
     "name": "stdout",
     "output_type": "stream",
     "text": [
      "Positive or Zero\n"
     ]
    }
   ],
   "source": [
    "num = 3\n",
    "\n",
    "if num >= 0:\n",
    "    print(\"Positive or Zero\")\n",
    "else:\n",
    "    print(\"Negative number\")"
   ]
  },
  {
   "cell_type": "markdown",
   "id": "061911e4",
   "metadata": {},
   "source": [
    "## Elif\n",
    "- Use the elif condition is used to include multiple conditional expressions after the if condition or between the if and else conditions.\n",
    "- The elif is short for else if. It allows us to check for multiple expressions.\n",
    "\n",
    "- If the condition for if is False, it checks the condition of the next elif block and so on.\n",
    "\n",
    "- If all the conditions are False, the body of else is executed.\n",
    "\n",
    "- Only one block among the several if...elif...else blocks is executed according to the condition.\n",
    "\n",
    "- The if block can have only one else block. But it can have multiple elif blocks.\n",
    "\n",
    "Example:"
   ]
  },
  {
   "cell_type": "code",
   "execution_count": 1,
   "id": "511fbbd5",
   "metadata": {},
   "outputs": [
    {
     "name": "stdout",
     "output_type": "stream",
     "text": [
      "Input your score : 90\n",
      "Your grade is A\n"
     ]
    }
   ],
   "source": [
    "score = int(input(\"Input your score : \"))\n",
    "\n",
    "if score >= 80 : print('Your grade is A')\n",
    "elif score >= 60 : print('Your grade is B')\n",
    "else : print('Your grade is C')"
   ]
  },
  {
   "cell_type": "code",
   "execution_count": 4,
   "id": "7af0f0f1",
   "metadata": {},
   "outputs": [
    {
     "name": "stdout",
     "output_type": "stream",
     "text": [
      "Negative number\n"
     ]
    }
   ],
   "source": [
    "num = -3.4\n",
    "\n",
    "if num > 0:\n",
    "    print(\"Positive number\")\n",
    "elif num == 0:\n",
    "    print(\"Zero\")\n",
    "else:\n",
    "    print(\"Negative number\")"
   ]
  },
  {
   "cell_type": "code",
   "execution_count": null,
   "id": "ff0f2d3a",
   "metadata": {},
   "outputs": [],
   "source": []
  }
 ],
 "metadata": {
  "kernelspec": {
   "display_name": "Python 3",
   "language": "python",
   "name": "python3"
  },
  "language_info": {
   "codemirror_mode": {
    "name": "ipython",
    "version": 3
   },
   "file_extension": ".py",
   "mimetype": "text/x-python",
   "name": "python",
   "nbconvert_exporter": "python",
   "pygments_lexer": "ipython3",
   "version": "3.6.13"
  }
 },
 "nbformat": 4,
 "nbformat_minor": 5
}
